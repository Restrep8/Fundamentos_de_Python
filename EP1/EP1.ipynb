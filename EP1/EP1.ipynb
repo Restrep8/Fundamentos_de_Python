{
  "nbformat": 4,
  "nbformat_minor": 0,
  "metadata": {
    "colab": {
      "provenance": [],
      "authorship_tag": "ABX9TyPqQi9ARQdz1XNCKHs8xw1u",
      "include_colab_link": true
    },
    "kernelspec": {
      "name": "python3",
      "display_name": "Python 3"
    },
    "language_info": {
      "name": "python"
    }
  },
  "cells": [
    {
      "cell_type": "markdown",
      "metadata": {
        "id": "view-in-github",
        "colab_type": "text"
      },
      "source": [
        "<a href=\"https://colab.research.google.com/github/Restrep8/Fundamentos_de_Python/blob/main/EP1.ipynb\" target=\"_parent\"><img src=\"https://colab.research.google.com/assets/colab-badge.svg\" alt=\"Open In Colab\"/></a>"
      ]
    },
    {
      "cell_type": "code",
      "execution_count": null,
      "metadata": {
        "id": "CsfjpsMOGCR2"
      },
      "outputs": [],
      "source": [
        "nombre = input(\"Digite su nombre: \")\n",
        "clave = int(input(\"\\nDigite su clave de departamento\\n1. Atención al cliente\\n2. Logística\\n3. Gerencia\\n= \"))\n",
        "antiguedad = int(input(\"\\nDigite sus años de antiguedad en la empresa: \"))\n",
        "vacaciones = 0\n",
        "\n",
        "if clave == 1:\n",
        "    if antiguedad == 1:\n",
        "        vacaciones = 6\n",
        "    elif 2 <= antiguedad <= 6:\n",
        "        vacaciones = 14\n",
        "    elif antiguedad >= 7:\n",
        "        vacaciones = 20\n",
        "\n",
        "elif clave == 2:\n",
        "        if antiguedad == 1:\n",
        "            vacaciones = 7\n",
        "        elif 2 <= antiguedad <= 6:\n",
        "            vacaciones = 15\n",
        "        elif antiguedad >= 7:\n",
        "            vacaciones = 22\n",
        "\n",
        "elif clave == 3:\n",
        "    if antiguedad == 1:\n",
        "        vacaciones = 10\n",
        "    elif 2 <= antiguedad <= 6:\n",
        "        vacaciones = 20\n",
        "    elif antiguedad >= 7:\n",
        "        vacaciones = 30\n",
        "\n",
        "print(f\"\\n{nombre}, tienes derecho a {vacaciones} días de vacaciones\")"
      ]
    }
  ]
}